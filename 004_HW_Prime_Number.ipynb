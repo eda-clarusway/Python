{
 "cells": [
  {
   "cell_type": "markdown",
   "id": "9545e1f9",
   "metadata": {},
   "source": [
    "Task : Write a program that takes a number from the user and prints the result to check if it is a prime number.\n",
    "\n",
    "The examples of the desired output are as follows :\n",
    "\n",
    "input →  19 ⇉ output : 19 is a prime number\n",
    "input →  10 ⇉ output : 10 is not a prime number"
   ]
  },
  {
   "cell_type": "code",
   "execution_count": null,
   "id": "4a9517d6",
   "metadata": {},
   "outputs": [],
   "source": [
    "number = int(input(\"Please enter a number :   \"))\n",
    "\n",
    "\n",
    "\n",
    "for i in range(2,number):\n",
    "\n",
    "    if number %i ==0 and number!=2:\n",
    "\n",
    "        not_prime=True\n",
    "\n",
    "        break\n",
    "\n",
    "    else:\n",
    "\n",
    "        not_prime = False\n",
    "\n",
    "        \n",
    "\n",
    "if not_prime==True:\n",
    "\n",
    "    print(f\"{number} is not a prime number\")\n",
    "\n",
    "else:\n",
    "\n",
    "    print(f\"{number} is a prime number\")\n",
    "\n"
   ]
  }
 ],
 "metadata": {
  "kernelspec": {
   "display_name": "Python 3",
   "language": "python",
   "name": "python3"
  },
  "language_info": {
   "codemirror_mode": {
    "name": "ipython",
    "version": 3
   },
   "file_extension": ".py",
   "mimetype": "text/x-python",
   "name": "python",
   "nbconvert_exporter": "python",
   "pygments_lexer": "ipython3",
   "version": "3.8.8"
  }
 },
 "nbformat": 4,
 "nbformat_minor": 5
}
