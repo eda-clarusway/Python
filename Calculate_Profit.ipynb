{
 "cells": [
  {
   "cell_type": "markdown",
   "id": "47236c8f",
   "metadata": {},
   "source": [
    "Problem : If you had deposited a coin on the cryptocurrency exchange that brought 7% fixed profit daily for a week, how much would your $ 1000 reach at the end of the 7th day?"
   ]
  },
  {
   "cell_type": "code",
   "execution_count": 2,
   "id": "a7865b65",
   "metadata": {},
   "outputs": [
    {
     "name": "stdout",
     "output_type": "stream",
     "text": [
      "1490.0\n"
     ]
    }
   ],
   "source": [
    "invest_crypto= 1000\n",
    "\n",
    "week_days=7\n",
    "\n",
    "net_profit=week_days*(invest_crypto/100*7) #To find %7 I divided the number by 100 and multiplied by 7\n",
    "\n",
    "total_money=invest_crypto+net_profit\n",
    "\n",
    "print(total_money)"
   ]
  }
 ],
 "metadata": {
  "kernelspec": {
   "display_name": "Python 3",
   "language": "python",
   "name": "python3"
  },
  "language_info": {
   "codemirror_mode": {
    "name": "ipython",
    "version": 3
   },
   "file_extension": ".py",
   "mimetype": "text/x-python",
   "name": "python",
   "nbconvert_exporter": "python",
   "pygments_lexer": "ipython3",
   "version": "3.10.4"
  }
 },
 "nbformat": 4,
 "nbformat_minor": 5
}
