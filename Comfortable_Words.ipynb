{
 "cells": [
  {
   "cell_type": "code",
   "execution_count": null,
   "id": "9725ea9c",
   "metadata": {},
   "outputs": [],
   "source": [
    "Task : Find out if the given word is \"comfortable words\" in relation to the ten-finger keyboard use.\n",
    "\n",
    "A comfortable word is a word which you can type always alternating the hand you type with (assuming you type using a Q-keyboard and use of the ten-fingers standard).\n",
    "The word will always be a string consisting of only letters from a to z.\n",
    "Write a program which returns True if it's a comfortable word or False otherwise.\n",
    "Examples\n",
    "Given  word\tDesired Output (explanation)\n",
    "tester\tFalse (uses only left-hand fingers)*\n",
    "polly\tFalse (uses only right-hand fingers)*\n",
    "clarusway\tTrue (uses both hand fingers)*"
   ]
  },
  {
   "cell_type": "code",
   "execution_count": null,
   "id": "377ed5bd",
   "metadata": {},
   "outputs": [],
   "source": [
    "left_type= set(\"q w e r t a s d f g z x c v b\".split())\n",
    "\n",
    "right_type = set(\"y u ı o p ğ ü h j k l ş i n m ö ç\".split()) \n",
    "\n",
    "wordy = input(\"Please enter a word: \")\n",
    "\n",
    "result = not set(wordy).issubset(left_type) and not set(wordy).issubset(right_type)\n",
    "\n",
    "print(result)"
   ]
  }
 ],
 "metadata": {
  "kernelspec": {
   "display_name": "Python 3",
   "language": "python",
   "name": "python3"
  },
  "language_info": {
   "codemirror_mode": {
    "name": "ipython",
    "version": 3
   },
   "file_extension": ".py",
   "mimetype": "text/x-python",
   "name": "python",
   "nbconvert_exporter": "python",
   "pygments_lexer": "ipython3",
   "version": "3.8.8"
  }
 },
 "nbformat": 4,
 "nbformat_minor": 5
}
