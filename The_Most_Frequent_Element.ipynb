{
 "cells": [
  {
   "cell_type": "markdown",
   "id": "c9e791ce",
   "metadata": {},
   "source": [
    "Write a program that;\n",
    "\n",
    "Finds out the most frequent number in the given list.\n",
    "Calculates its frequency.\n",
    "Prints out the result such as :\n",
    "Example\n",
    "Given list\tDesired Output\n",
    "numbers = [1, 3, 7, 4, 3, 0, 3, 6, 3]\n",
    "the most frequent number is 3 and it was 4 times repeated"
   ]
  },
  {
   "cell_type": "code",
   "execution_count": null,
   "id": "d6d8dacf",
   "metadata": {},
   "outputs": [],
   "source": [
    "numbers = [1, 3, 7, 4, 3, 0, 3, 6, 3]\n",
    "most_used = max(numbers, key = numbers.count)\n",
    "print(f\"The most frequent number is {most_used} and it was {numbers.count(most_used)} times repeated\")\n"
   ]
  }
 ],
 "metadata": {
  "kernelspec": {
   "display_name": "Python 3",
   "language": "python",
   "name": "python3"
  },
  "language_info": {
   "codemirror_mode": {
    "name": "ipython",
    "version": 3
   },
   "file_extension": ".py",
   "mimetype": "text/x-python",
   "name": "python",
   "nbconvert_exporter": "python",
   "pygments_lexer": "ipython3",
   "version": "3.8.8"
  }
 },
 "nbformat": 4,
 "nbformat_minor": 5
}
