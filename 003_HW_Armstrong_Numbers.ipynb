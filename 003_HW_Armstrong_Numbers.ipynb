{
 "cells": [
  {
   "cell_type": "markdown",
   "id": "715cefb2",
   "metadata": {},
   "source": [
    "Task:\n",
    "\n",
    "Find out if a given number is an \"Armstrong Number\".\n",
    "\n",
    "An n-digit number that is the sum of the nth powers of its digits is called an n-Armstrong number. Examples :\n",
    "371 = 33 + 73 + 13;\n",
    "9474 = 94 + 44 + 74 + 44;\n",
    "93084 = 95 + 35 + 05 + 85 + 45.\n",
    "\n",
    "Write a Python program that;\n",
    "takes a positive integer number from the user,\n",
    "checks the entered number if it is Armstrong,\n",
    "consider the negative, float and any entries other than numeric values then display a warning message to the user.\n",
    "\n",
    "Examples\n",
    "Sample inputs\tOutputs\n",
    "407\t           407 is an Armstrong number\n",
    "5\t           5 is an Armstrong number\n",
    " -153\t       It is an invalid entry. Don't use non-numeric, float, or negative values!\n",
    " 153.87 or 153,87\t It is an invalid entry. Don't use non-numeric, float, or negative values!\n",
    " one\t        It is an invalid entry. Don't use non-numeric, float, or negative values!\n",
    " 121\t        121 is not an Armstrong number"
   ]
  },
  {
   "cell_type": "code",
   "execution_count": null,
   "id": "42fab403",
   "metadata": {},
   "outputs": [],
   "source": [
    "rakam_user = input(\"Please enter a positive integer number :  \")\n",
    "\n",
    "rakam_str = str(rakam_user)\n",
    "\n",
    "comparison_rakam=0\n",
    "\n",
    "counter= len(rakam_str)\n",
    "\n",
    "if rakam_user.isdecimal():\n",
    "\n",
    "    for i in rakam_str:\n",
    "\n",
    "        add=(int(i)**counter)\n",
    "\n",
    "        comparison_rakam += add\n",
    "\n",
    "    if comparison_rakam == int(rakam_user):\n",
    "\n",
    "        print(f\"{rakam_user} is an Armstrong number\")\n",
    "\n",
    "    else:\n",
    "\n",
    "        print(f\"{rakam_user} is not an Armstrong number\")"
   ]
  }
 ],
 "metadata": {
  "kernelspec": {
   "display_name": "Python 3",
   "language": "python",
   "name": "python3"
  },
  "language_info": {
   "codemirror_mode": {
    "name": "ipython",
    "version": 3
   },
   "file_extension": ".py",
   "mimetype": "text/x-python",
   "name": "python",
   "nbconvert_exporter": "python",
   "pygments_lexer": "ipython3",
   "version": "3.8.8"
  }
 },
 "nbformat": 4,
 "nbformat_minor": 5
}
