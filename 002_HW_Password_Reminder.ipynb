{
 "cells": [
  {
   "cell_type": "markdown",
   "id": "805e0ce7",
   "metadata": {},
   "source": [
    "Task : Let's say; you left a message in the past that prints a password you need. To see the password you wrote, you need to enter your name and the program should recognize you.\n",
    "Write a program that \n",
    "\n",
    "Takes the first name from the user and compares it to yours,\n",
    "Then if the name the user entered is the same as yours, print out such as : \"Hello, Joseph! The password is : W@12\",\n",
    "If the name the user entered is not the same as yours, print out such as : \"Hello, Amina! See you later.\""
   ]
  },
  {
   "cell_type": "code",
   "execution_count": null,
   "id": "336f139a",
   "metadata": {},
   "outputs": [],
   "source": [
    "parola = \"Clarusway\"\n",
    "\n",
    "name = \"Eda\"\n",
    "\n",
    "login_name= input(\"Please enter your name: \")\n",
    "\n",
    "if login_name.title() == \"Eda\":\n",
    "\n",
    "    print(f\"Hello, {login_name.title()}! The password is : {parola}\")\n",
    "\n",
    "else:\n",
    "\n",
    "    print(f\"Hello, {login_name.title()}! See you later!\")"
   ]
  }
 ],
 "metadata": {
  "kernelspec": {
   "display_name": "Python 3",
   "language": "python",
   "name": "python3"
  },
  "language_info": {
   "codemirror_mode": {
    "name": "ipython",
    "version": 3
   },
   "file_extension": ".py",
   "mimetype": "text/x-python",
   "name": "python",
   "nbconvert_exporter": "python",
   "pygments_lexer": "ipython3",
   "version": "3.8.8"
  }
 },
 "nbformat": 4,
 "nbformat_minor": 5
}
