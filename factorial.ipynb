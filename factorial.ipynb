{
 "cells": [
  {
   "cell_type": "markdown",
   "id": "7840dd31",
   "metadata": {},
   "source": [
    "Define a function named my_fact to calculate factorial of the given number. Given a non-negative integer return the factorial of the integer.\n",
    "\n",
    "(Example: The factorial of 5 is: 5*4*3*2*1 = 120 and factorial of 0 is: 1)"
   ]
  },
  {
   "cell_type": "code",
   "execution_count": 1,
   "id": "8ababe04",
   "metadata": {},
   "outputs": [],
   "source": [
    "def my_fact(n):\n",
    "    if n==0 :\n",
    "        return 1\n",
    "    else:\n",
    "        fact=1\n",
    "        for i in range(1,n+1):\n",
    "            fact *=i\n",
    "        return(fact)"
   ]
  },
  {
   "cell_type": "code",
   "execution_count": 2,
   "id": "a6f10407",
   "metadata": {},
   "outputs": [
    {
     "data": {
      "text/plain": [
       "24"
      ]
     },
     "execution_count": 2,
     "metadata": {},
     "output_type": "execute_result"
    }
   ],
   "source": [
    "my_fact(4)"
   ]
  },
  {
   "cell_type": "code",
   "execution_count": 3,
   "id": "865ea40f",
   "metadata": {},
   "outputs": [
    {
     "data": {
      "text/plain": [
       "120"
      ]
     },
     "execution_count": 3,
     "metadata": {},
     "output_type": "execute_result"
    }
   ],
   "source": [
    "my_fact(5)"
   ]
  },
  {
   "cell_type": "code",
   "execution_count": null,
   "id": "765dc948",
   "metadata": {},
   "outputs": [],
   "source": []
  }
 ],
 "metadata": {
  "kernelspec": {
   "display_name": "Python 3",
   "language": "python",
   "name": "python3"
  },
  "language_info": {
   "codemirror_mode": {
    "name": "ipython",
    "version": 3
   },
   "file_extension": ".py",
   "mimetype": "text/x-python",
   "name": "python",
   "nbconvert_exporter": "python",
   "pygments_lexer": "ipython3",
   "version": "3.8.8"
  }
 },
 "nbformat": 4,
 "nbformat_minor": 5
}
