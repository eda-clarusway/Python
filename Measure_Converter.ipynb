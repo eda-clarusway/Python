{
 "cells": [
  {
   "cell_type": "markdown",
   "id": "066b7363",
   "metadata": {},
   "source": [
    "Task-1:\n",
    "\n",
    "Write a short Python program that asks the user to enter Celsius temperature (it can be a decimal number), converts the entered temperature into Fahrenheit degree and prints the result.\n",
    "\n",
    "Task-2:\n",
    "Write a short Python program that asks the user to enter a distance (it can be a decimal number) in kilometers, converts the entered distance into miles and prints the result.\n"
   ]
  },
  {
   "cell_type": "code",
   "execution_count": null,
   "id": "d326fc4a",
   "metadata": {},
   "outputs": [],
   "source": [
    "#Task 1\n",
    "\n",
    "celcius_temp= int(float(input(\"What is the temperetaure now?Please write in Celcius!\"))) \n",
    "\n",
    "#The formula of converting Celcius to Fahrenheit is T(°F) = T(°C) × 1.8 + 32\n",
    "\n",
    " fahrenheit_temp= celcius_temp*1.8+32 \n",
    "\n",
    "print(f\"The temperature in Fahrenheit is currently {fahrenheit_temp} degrees.\")"
   ]
  },
  {
   "cell_type": "code",
   "execution_count": null,
   "id": "d1c57be5",
   "metadata": {},
   "outputs": [],
   "source": [
    "#Task 2 \n",
    "\n",
    "distance = int(float(input(\"Please enter the distance between your home and your current location in kilometers\")))\n",
    "\n",
    "#The formula of converting kilometres to miles is mi = km * 0.62137 \n",
    "\n",
    "distance_miles= distance* 0.62137 \n",
    "\n",
    " print(f\"The distance between your home and your current location is {distance_miles} miles.\")"
   ]
  }
 ],
 "metadata": {
  "kernelspec": {
   "display_name": "Python 3",
   "language": "python",
   "name": "python3"
  },
  "language_info": {
   "codemirror_mode": {
    "name": "ipython",
    "version": 3
   },
   "file_extension": ".py",
   "mimetype": "text/x-python",
   "name": "python",
   "nbconvert_exporter": "python",
   "pygments_lexer": "ipython3",
   "version": "3.8.8"
  }
 },
 "nbformat": 4,
 "nbformat_minor": 5
}
