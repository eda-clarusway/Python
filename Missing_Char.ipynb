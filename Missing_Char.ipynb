{
 "cells": [
  {
   "cell_type": "markdown",
   "id": "7f45db51",
   "metadata": {},
   "source": [
    "Given a non-empty string and an int n, return a new string where the character at index n has been removed. The value of n will be a valid index of a character in the original string (i.e. n will be in the range 0....len(str)-1 inclusive)."
   ]
  },
  {
   "cell_type": "markdown",
   "id": "8e2d3f8c",
   "metadata": {},
   "source": [
    "print(missing_char('kitchen', 1))\n",
    "ktchen\n",
    "print(missing_char('kitchen', 0))\n",
    "itchen\n",
    "print(missing_char('kitchen', 4))\n",
    "kitcen"
   ]
  },
  {
   "cell_type": "code",
   "execution_count": null,
   "id": "36163457",
   "metadata": {},
   "outputs": [],
   "source": [
    "def missing_char(word, n):\n",
    "    word_remove= word[n]\n",
    "    result=word.replace(word_remove,\"\")\n",
    "    return result\n",
    "print(missing_char('kitchen', 0))"
   ]
  }
 ],
 "metadata": {
  "kernelspec": {
   "display_name": "Python 3",
   "language": "python",
   "name": "python3"
  },
  "language_info": {
   "codemirror_mode": {
    "name": "ipython",
    "version": 3
   },
   "file_extension": ".py",
   "mimetype": "text/x-python",
   "name": "python",
   "nbconvert_exporter": "python",
   "pygments_lexer": "ipython3",
   "version": "3.8.8"
  }
 },
 "nbformat": 4,
 "nbformat_minor": 5
}
